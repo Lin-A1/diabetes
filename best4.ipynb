{
 "cells": [
  {
   "cell_type": "code",
   "execution_count": 1,
   "id": "9bd27430-3291-4e86-aa60-0d0437a5030b",
   "metadata": {
    "pycharm": {
     "name": "#%%\n"
    }
   },
   "outputs": [],
   "source": [
    "import pandas as pd\n",
    "import numpy as np\n",
    "from tqdm import tqdm\n",
    "from sklearn.metrics import f1_score\n",
    "import matplotlib.pyplot as plt\n",
    "import xgboost as xgb\n",
    "from sklearn.preprocessing import StandardScaler\n",
    "from catboost import CatBoostClassifier\n",
    "from sklearn.feature_selection import VarianceThreshold\n",
    "from sklearn.model_selection import train_test_split\n",
    "import seaborn as sns\n",
    "from catboost import CatBoostClassifier\n",
    "from sklearn.model_selection import cross_val_score\n",
    "from sklearn.linear_model import LogisticRegression\n",
    "from sklearn.preprocessing import PolynomialFeatures\n",
    "import lightgbm as lgb\n",
    "from sklearn.ensemble import GradientBoostingClassifier\n",
    "\n",
    "import warnings\n",
    "warnings.filterwarnings(\"ignore\")"
   ]
  },
  {
   "cell_type": "code",
   "execution_count": 2,
   "id": "04184b89-4cc0-49f2-b494-83b7647d9994",
   "metadata": {
    "pycharm": {
     "name": "#%%\n"
    }
   },
   "outputs": [],
   "source": [
    "df = pd.read_csv('data/train.csv')\n",
    "val = pd.read_csv('data/test.csv')\n",
    "res = pd.read_csv('data/sample_submit.csv')"
   ]
  },
  {
   "cell_type": "code",
   "execution_count": 3,
   "id": "f5017964-e0cf-46d0-9794-eb8bd628db6a",
   "metadata": {
    "pycharm": {
     "name": "#%%\n"
    }
   },
   "outputs": [
    {
     "data": {
      "image/png": "[encoded data removed]",
      "text/plain": [
       "<Figure size 640x480 with 1 Axes>"
      ]
     },
     "metadata": {},
     "output_type": "display_data"
    }
   ],
   "source": [
    "category_counts = df['target'].value_counts()\n",
    "plt.pie(category_counts, labels={0:'正常',1:'糖尿病前期',2:'糖尿病'}, autopct='%1.1f%%', startangle=140)\n",
    "plt.axis('equal') \n",
    "plt.legend()\n",
    "plt.grid(True)\n",
    "plt.show()"
   ]
  },
  {
   "cell_type": "code",
   "execution_count": 4,
   "id": "d913bfaf-d328-44cd-9650-82b023d70204",
   "metadata": {},
   "outputs": [],
   "source": [
    "target = df['target']\n",
    "scaler = StandardScaler()\n",
    "scaled_data = scaler.fit_transform(df.drop(['id','target'],axis=1))\n",
    "scaled_val = scaler.transform(val.drop(['id'],axis=1))\n",
    "df = pd.DataFrame(scaled_data, columns=df.drop(['id','target'],axis=1).columns)\n",
    "val = pd.DataFrame(scaled_val, columns=val.drop(['id'],axis=1).columns)\n",
    "\n",
    "df['target'] = target"
   ]
  },
  {
   "cell_type": "code",
   "execution_count": 5,
   "id": "2cb172dd-af75-4af4-9428-2132643a0072",
   "metadata": {},
   "outputs": [],
   "source": [
    "bmi_mean = df[df['target']==0]['BMI'].mean()\n",
    "df['BMI_'] = (df['BMI'] - bmi_mean).abs()\n",
    "val['BMI_'] = (val['BMI'] - bmi_mean).abs()\n",
    "\n",
    "bmi_mean = df[df['target']==0]['Education'].mean()\n",
    "df['Education_'] = (df['Education'] - bmi_mean).abs()\n",
    "val['Education_'] = (val['Education'] - bmi_mean).abs()\n",
    "\n",
    "bmi_mean = df[df['target']==0]['Income'].mean()\n",
    "df['Income_'] = (df['Income'] - bmi_mean).abs()\n",
    "val['Income_'] = (val['Income'] - bmi_mean).abs()"
   ]
  },
  {
   "cell_type": "code",
   "execution_count": 6,
   "id": "c628af4f-6fd0-426b-8cdd-449a26ecb475",
   "metadata": {},
   "outputs": [],
   "source": [
    "col_list = []\n",
    "for i in df.columns:\n",
    "    if df[i].min() == 0 and df[i].max() == 1:\n",
    "        df[i] = df[i].apply(lambda x:0 if x < 0.5 else 1)\n",
    "        val[i] = val[i].apply(lambda x:0 if x < 0.5 else 1)\n",
    "    else:    \n",
    "        col_list.append(i)\n",
    "col_list.remove('target')"
   ]
  },
  {
   "cell_type": "code",
   "execution_count": 7,
   "id": "ab310503-d578-4ad3-9ecf-2e447f3180f3",
   "metadata": {},
   "outputs": [],
   "source": [
    "feature_interactions = [\n",
    "    ('Age', 'Sex'),                    # 年龄和性别\n",
    "    ('HighBP', 'HighChol'),            # 高血压和高酒精\n",
    "    ('PhysActivity', 'BMI'),           # 身体活动和体重指数\n",
    "    ('MentHlth', 'PhysHlth'),         # 心理健康和身体健康\n",
    "    # ('Fruits', 'Veggies'),            # 水果和蔬菜\n",
    "    ('Education', 'Income'),           # 教育和收入\n",
    "    ('Smoker', 'HvyAlcoholConsump'),   # 吸烟者和酗酒者\n",
    "    ('CholCheck', 'HeartDiseaseorAttack'),  # 胆固醇检查和心脏疾病\n",
    "    # ('HighBP', 'Stroke'),                # 高血压和中风\n",
    "    # ('HighChol', 'CholCheck'),           # 高酒精和胆固醇检查\n",
    "    # ('PhysActivity', 'DiffWalk'),        # 身体活动和走路/爬楼困难\n",
    "    ('Fruits', 'Veggies', 'BMI'),       # 水果、蔬菜和体重指数的组合\n",
    "    ('Education', 'Income', 'GenHlth'),  # 教育、收入和健康状况的组合\n",
    "    # ('Smoker', 'Age', 'MentHlth'),      # 吸烟者、年龄和心理健康的组合\n",
    "    # ('HvyAlcoholConsump', 'AnyHealthcare', 'NoDocbcCost'),  # 酗酒者、医疗保健和医疗成本的组合\n",
    "]\n",
    "\n",
    "for j,feaList in enumerate(feature_interactions):\n",
    "    poly = PolynomialFeatures(degree=len(feaList))\n",
    "    df_poly = poly.fit_transform(df[list(feaList)])\n",
    "    val_poly = poly.transform(val[list(feaList)])\n",
    "    \n",
    "    df_poly_df = pd.DataFrame(df_poly, columns=[f'poly{j}_{i}' for i in range(df_poly.shape[1])])\n",
    "    val_poly_df = pd.DataFrame(val_poly, columns=[f'poly{j}_{i}' for i in range(val_poly.shape[1])])\n",
    "    \n",
    "    df = pd.concat([df, df_poly_df], axis=1)\n",
    "    val = pd.concat([val, val_poly_df], axis=1)\n",
    "    \n",
    "# feature_interaction_list = [item for sublist in feature_interactions for item in sublist]\n",
    "# feature_interaction_list  =list(set(feature_interaction_list))\n",
    "# df.drop(feature_interaction_list,axis=1,inplace=True)\n",
    "# val.drop(feature_interaction_list,axis=1,inplace=True)"
   ]
  },
  {
   "cell_type": "code",
   "execution_count": 8,
   "id": "b013a5e2-8b55-499c-8184-1171bee02a53",
   "metadata": {
    "pycharm": {
     "name": "#%%\n"
    }
   },
   "outputs": [],
   "source": [
    "X = df.drop(['target'],axis=1)\n",
    "y = target\n",
    "valX = val\n",
    "\n",
    "# poly = PolynomialFeatures(degree=2)\n",
    "# X = poly.fit_transform(X)\n",
    "# valX = poly.fit_transform(valX)\n",
    "\n",
    "# # 使用方差筛选\n",
    "# variance_threshold = VarianceThreshold(threshold=1)\n",
    "# X = variance_threshold.fit_transform(X)\n",
    "# valX = variance_threshold.fit_transform(valX)\n",
    "\n",
    "# 划分测试集\n",
    "X_train, X_test, y_train, y_test = train_test_split(X, y, test_size=0.2, random_state=42)"
   ]
  },
  {
   "cell_type": "code",
   "execution_count": 9,
   "id": "1a0c6a1f-12f8-402a-a646-5431e9f6fa93",
   "metadata": {},
   "outputs": [
    {
     "name": "stdout",
     "output_type": "stream",
     "text": [
      "[LightGBM] [Info] This is the GPU trainer!!\n",
      "[LightGBM] [Info] Total Bins 24019\n",
      "[LightGBM] [Info] Number of data points in the train set: 240000, number of used features: 97\n",
      "[LightGBM] [Info] Using GPU Device: NVIDIA GeForce RTX 3060, Vendor: NVIDIA Corporation\n",
      "[LightGBM] [Info] Compiling OpenCL Kernel with 256 bins...\n",
      "[LightGBM] [Info] GPU programs have been built\n",
      "[LightGBM] [Info] Size of histogram bin entry: 8\n",
      "[LightGBM] [Info] 76 dense feature groups (17.40 MB) transferred to GPU in 0.016700 secs. 1 sparse feature groups\n",
      "[LightGBM] [Info] Start training from score -0.173912\n",
      "[LightGBM] [Info] Start training from score -3.921022\n",
      "[LightGBM] [Info] Start training from score -1.967483\n",
      "Training until validation scores don't improve for 50 rounds\n",
      "[100]\tvalid_0's multi_logloss: 0.393866\n",
      "[200]\tvalid_0's multi_logloss: 0.389099\n",
      "[300]\tvalid_0's multi_logloss: 0.386844\n",
      "[400]\tvalid_0's multi_logloss: 0.385066\n",
      "[500]\tvalid_0's multi_logloss: 0.383658\n",
      "Did not meet early stopping. Best iteration is:\n",
      "[500]\tvalid_0's multi_logloss: 0.383658\n"
     ]
    }
   ],
   "source": [
    "lgb_params = {\n",
    "    'n_estimators':500,\n",
    "    'objective': 'multiclass',\n",
    "    'num_class': 3,\n",
    "    'max_depth': 10,\n",
    "    'min_child_samples': 3,\n",
    "    'random_state': 42,\n",
    "    'subsample': 0.8, \n",
    "    'learning_rate':0.03,\n",
    "    'num_leaves': 64,\n",
    "    'boosting_type': 'gbdt',\n",
    "    \"lambda_l1\": 0.5,\n",
    "    \"lambda_l2\": 0.5,\n",
    "    'colsample_bytree': 0.8,\n",
    "    'n_jobs': -1,\n",
    "    'device': 'gpu',\n",
    "}\n",
    " \n",
    "# 创建 LightGBM 数据集\n",
    "sample_weights = np.ones_like(y_train)  \n",
    "sample_weights[y_train == 1] = 3  \n",
    "sample_weights[y_train == 2] = 2  \n",
    "\n",
    "train_data = lgb.Dataset(X_train, label=y_train, \n",
    "                         # weight=sample_weights\n",
    "                        )\n",
    "val_data = lgb.Dataset(X_test, label=y_test, reference=train_data)\n",
    "\n",
    "# 训练模型\n",
    "model = lgb.train(params=lgb_params,\n",
    "                  train_set=train_data,\n",
    "                  valid_sets=[val_data],\n",
    "                  early_stopping_rounds=50,  \n",
    "                  verbose_eval=100)  # 每隔多少轮输出日志信息\n",
    "\n",
    "lgb_train = model.predict(X_train)\n",
    "lgb_test = model.predict(X_test)\n",
    "lgb_val = model.predict(valX)"
   ]
  },
  {
   "cell_type": "code",
   "execution_count": 10,
   "id": "f8e09034-3b03-4b80-8131-c7c3df22772d",
   "metadata": {},
   "outputs": [
    {
     "name": "stdout",
     "output_type": "stream",
     "text": [
      "[0]\teval-mlogloss:1.06901\n",
      "[100]\teval-mlogloss:0.40677\n",
      "[200]\teval-mlogloss:0.38439\n",
      "[300]\teval-mlogloss:0.37852\n",
      "[400]\teval-mlogloss:0.37428\n",
      "[499]\teval-mlogloss:0.37117\n"
     ]
    }
   ],
   "source": [
    "# 定义XGBoost参数\n",
    "xgb_params = {\n",
    "    'objective': 'multi:softprob',\n",
    "    'num_class': 3,\n",
    "    'max_depth': 10,\n",
    "    'min_child_weight': 3,\n",
    "    'seed': 42,\n",
    "    'subsample': 0.8,\n",
    "    'eta': 0.03,\n",
    "    'gamma': 0.6,\n",
    "    'colsample_bytree': 0.8,\n",
    "    'n_jobs': -1,\n",
    "    'tree_method': 'gpu_hist',  \n",
    "}\n",
    "\n",
    "# 创建XGBoost数据矩阵\n",
    "dtrain = xgb.DMatrix(X_train, label=y_train)\n",
    "dtest = xgb.DMatrix(X_test, label=y_test)\n",
    "dval = xgb.DMatrix(valX)\n",
    "\n",
    "# 训练模型\n",
    "num_round = 500\n",
    "early_stopping_rounds = 50\n",
    "\n",
    "evals = [(dtest, 'eval')]\n",
    "model = xgb.train(params=xgb_params,\n",
    "                  dtrain=dtrain,\n",
    "                  num_boost_round=num_round,\n",
    "                  evals=evals,\n",
    "                  early_stopping_rounds=early_stopping_rounds,\n",
    "                  verbose_eval=100)\n",
    "\n",
    "# 预测\n",
    "xgb_train = model.predict(dtrain)\n",
    "xgb_test = model.predict(dtest)\n",
    "xgb_val = model.predict(dval)"
   ]
  },
  {
   "cell_type": "code",
   "execution_count": 11,
   "id": "9129fa41-e11a-4b41-8338-62667b7fe396",
   "metadata": {},
   "outputs": [
    {
     "name": "stdout",
     "output_type": "stream",
     "text": [
      "0:\tlearn: 1.0601978\ttest: 1.0604434\tbest: 1.0604434 (0)\ttotal: 36.1ms\tremaining: 18s\n",
      "100:\tlearn: 0.3977133\ttest: 0.4080338\tbest: 0.4080338 (100)\ttotal: 3.35s\tremaining: 13.2s\n",
      "200:\tlearn: 0.3751191\ttest: 0.3933533\tbest: 0.3933533 (200)\ttotal: 6.43s\tremaining: 9.57s\n",
      "300:\tlearn: 0.3643838\ttest: 0.3898557\tbest: 0.3898557 (300)\ttotal: 9.44s\tremaining: 6.24s\n",
      "400:\tlearn: 0.3555352\ttest: 0.3874384\tbest: 0.3874384 (400)\ttotal: 12.4s\tremaining: 3.06s\n",
      "499:\tlearn: 0.3473107\ttest: 0.3854386\tbest: 0.3854386 (499)\ttotal: 15.4s\tremaining: 0us\n",
      "bestTest = 0.3854386068\n",
      "bestIteration = 499\n"
     ]
    }
   ],
   "source": [
    "# 定义CatBoost参数\n",
    "catboost_params = {\n",
    "    'iterations': 500,\n",
    "    'learning_rate': 0.03,\n",
    "    'depth': 10,\n",
    "    'l2_leaf_reg': 3,\n",
    "    'border_count': 32,\n",
    "    'thread_count': -1,\n",
    "    'loss_function': 'MultiClass',\n",
    "    'random_seed': 42,\n",
    "    'task_type': 'GPU'\n",
    "}\n",
    "\n",
    "# 创建CatBoost模型\n",
    "model_catboost = CatBoostClassifier(**catboost_params)\n",
    "\n",
    "# 训练模型\n",
    "model_catboost.fit(X_train, y_train, eval_set=(X_test, y_test), early_stopping_rounds=50, verbose=100)\n",
    "\n",
    "# 预测\n",
    "catboost_train = model_catboost.predict_proba(X_train)\n",
    "catboost_test = model_catboost.predict_proba(X_test)\n",
    "catboost_val = model_catboost.predict_proba(valX)"
   ]
  },
  {
   "cell_type": "code",
   "execution_count": 12,
   "id": "a1b02a12-64af-443f-be13-330ab3b3ef5c",
   "metadata": {},
   "outputs": [
    {
     "name": "stderr",
     "output_type": "stream",
     "text": [
      "Threshold 0: 100%|█████████████████████████████████████████████████████████████████████| 34/34 [09:23<00:00, 16.58s/it]\n"
     ]
    },
    {
     "name": "stdout",
     "output_type": "stream",
     "text": [
      "best_f1 is: 0.5617971944641528\n",
      "best_thresholds is: [0.84, 0.09, 0.27]\n"
     ]
    },
    {
     "name": "stderr",
     "output_type": "stream",
     "text": [
      "Threshold 0: 100%|█████████████████████████████████████████████████████████████████████| 34/34 [09:40<00:00, 17.07s/it]\n"
     ]
    },
    {
     "name": "stdout",
     "output_type": "stream",
     "text": [
      "best_f1 is: 0.5309758794237179\n",
      "best_thresholds is: [0.84, 0.09, 0.27]\n"
     ]
    },
    {
     "name": "stderr",
     "output_type": "stream",
     "text": [
      "Threshold 0: 100%|█████████████████████████████████████████████████████████████████████| 34/34 [09:25<00:00, 16.63s/it]"
     ]
    },
    {
     "name": "stdout",
     "output_type": "stream",
     "text": [
      "best_f1 is: 0.5165545845410534\n",
      "best_thresholds is: [0.93, 0.06, 0.27]\n"
     ]
    },
    {
     "name": "stderr",
     "output_type": "stream",
     "text": [
      "\n"
     ]
    }
   ],
   "source": [
    "def find_best_thresholds(y_pred,y_true=y_test.copy()):\n",
    "    y_pred_prob = y_pred.copy()\n",
    "    best_thresholds = [0.1, 0.1, 0.1]  # 初始阈值\n",
    "    best_f1 = 0 \n",
    "\n",
    "    for threshold_0 in tqdm(range(0, 101, 3), desc=\"Threshold 0\"):\n",
    "        for threshold_1 in range(0, 101, 3):\n",
    "            for threshold_2 in range(0, 101, 3):\n",
    "                thresholds = [threshold_0 / 100.0, threshold_1 / 100.0, threshold_2 / 100.0]\n",
    "\n",
    "                y_pred = y_pred_prob.copy()\n",
    "                y_pred[:, 2] = (y_pred[:, 2] >= thresholds[2]).astype(int)\n",
    "                y_pred[:, 1] = (y_pred[:, 1] >= thresholds[1]).astype(int)\n",
    "                y_pred[:, 0] = (y_pred[:, 0] >= thresholds[0]).astype(int)\n",
    "\n",
    "                f1 = f1_score(y_true, np.argmax(y_pred, axis=1), average='macro')\n",
    "\n",
    "                if f1 > best_f1:\n",
    "                    best_f1 = f1\n",
    "                    best_thresholds = thresholds\n",
    "    print('best_f1 is:', best_f1)\n",
    "    print('best_thresholds is:', best_thresholds)\n",
    "    return best_f1, best_thresholds\n",
    "\n",
    "thresholds = []\n",
    "f1s = []\n",
    "for i in [xgb_test,lgb_test,catboost_test]:\n",
    "    best_f1, best_thresholds = find_best_thresholds(i)\n",
    "    thresholds.append(best_thresholds)\n",
    "    f1s.append(best_f1)"
   ]
  },
  {
   "cell_type": "code",
   "execution_count": 13,
   "id": "062ac541-7154-4b56-9fce-e9127c750ea6",
   "metadata": {},
   "outputs": [
    {
     "data": {
      "text/plain": [
       "[[0.84, 0.09, 0.27], [0.84, 0.09, 0.27], [0.93, 0.06, 0.27]]"
      ]
     },
     "execution_count": 13,
     "metadata": {},
     "output_type": "execute_result"
    }
   ],
   "source": [
    "thresholds"
   ]
  },
  {
   "cell_type": "code",
   "execution_count": 14,
   "id": "2c48139d-d30c-4b8e-8391-6ffe7dfc70b6",
   "metadata": {},
   "outputs": [
    {
     "data": {
      "text/plain": [
       "[0.5617971944641528, 0.5309758794237179, 0.5165545845410534]"
      ]
     },
     "execution_count": 14,
     "metadata": {},
     "output_type": "execute_result"
    }
   ],
   "source": [
    "f1s"
   ]
  },
  {
   "cell_type": "code",
   "execution_count": 15,
   "id": "072b978d-7582-4ab7-8433-84ab4b710d88",
   "metadata": {},
   "outputs": [],
   "source": [
    "xgb_test[:, 2] = (xgb_test[:, 2] >= thresholds[0][2]).astype(int)\n",
    "xgb_test[:, 1] = (xgb_test[:, 1] >= thresholds[0][1]).astype(int)\n",
    "xgb_test[:, 0] = (xgb_test[:, 0] >= thresholds[0][0]).astype(int)\n",
    "xgb_train[:, 2] = (xgb_train[:, 2] >= thresholds[0][2]).astype(int)\n",
    "xgb_train[:, 1] = (xgb_train[:, 1] >= thresholds[0][1]).astype(int)\n",
    "xgb_train[:, 0] = (xgb_train[:, 0] >= thresholds[0][0]).astype(int)\n",
    "xgb_val[:, 2] = (xgb_val[:, 2] >= thresholds[0][2]).astype(int)\n",
    "xgb_val[:, 1] = (xgb_val[:, 1] >= thresholds[0][1]).astype(int)\n",
    "xgb_val[:, 0] = (xgb_val[:, 0] >= thresholds[0][0]).astype(int)\n",
    "\n",
    "lgb_test[:, 2] = (lgb_test[:, 2] >= thresholds[1][2]).astype(int)\n",
    "lgb_test[:, 1] = (lgb_test[:, 1] >= thresholds[1][1]).astype(int)\n",
    "lgb_test[:, 0] = (lgb_test[:, 0] >= thresholds[1][0]).astype(int)\n",
    "lgb_train[:, 2] = (lgb_train[:, 2] >= thresholds[1][2]).astype(int)\n",
    "lgb_train[:, 1] = (lgb_train[:, 1] >= thresholds[1][1]).astype(int)\n",
    "lgb_train[:, 0] = (lgb_train[:, 0] >= thresholds[1][0]).astype(int)\n",
    "lgb_val[:, 2] = (lgb_val[:, 2] >= thresholds[1][2]).astype(int)\n",
    "lgb_val[:, 1] = (lgb_val[:, 1] >= thresholds[1][1]).astype(int)\n",
    "lgb_val[:, 0] = (lgb_val[:, 0] >= thresholds[1][0]).astype(int)\n",
    "\n",
    "catboost_test[:, 2] = (catboost_test[:, 2] >= thresholds[2][2]).astype(int)\n",
    "catboost_test[:, 1] = (catboost_test[:, 1] >= thresholds[2][1]).astype(int)\n",
    "catboost_test[:, 0] = (catboost_test[:, 0] >= thresholds[2][0]).astype(int)\n",
    "catboost_train[:, 2] = (catboost_train[:, 2] >= thresholds[2][2]).astype(int)\n",
    "catboost_train[:, 1] = (catboost_train[:, 1] >= thresholds[2][1]).astype(int)\n",
    "catboost_train[:, 0] = (catboost_train[:, 0] >= thresholds[2][0]).astype(int)\n",
    "catboost_val[:, 2] = (catboost_val[:, 2] >= thresholds[2][2]).astype(int)\n",
    "catboost_val[:, 1] = (catboost_val[:, 1] >= thresholds[2][1]).astype(int)\n",
    "catboost_val[:, 0] = (catboost_val[:, 0] >= thresholds[2][0]).astype(int)"
   ]
  },
  {
   "cell_type": "code",
   "execution_count": 16,
   "id": "a9b65508-dcba-4db7-bb0b-5809f7e80519",
   "metadata": {},
   "outputs": [],
   "source": [
    "trainX = np.hstack((\n",
    "    np.argmax(xgb_train, axis=1).reshape(-1, 1)*f1s[0]/sum(f1s),\n",
    "    np.argmax(lgb_train, axis=1).reshape(-1, 1)*f1s[1]/sum(f1s),\n",
    "    np.argmax(catboost_train, axis=1).reshape(-1, 1)*f1s[2]/sum(f1s),\n",
    "    # np.argmax(gbdt_train, axis=1).reshape(-1, 1),\n",
    "    # np.argmax(rf_train, axis=1).reshape(-1, 1)\n",
    "    (xgb_train + lgb_train + catboost_train) / 3\n",
    "))\n",
    "\n",
    "testX = np.hstack((\n",
    "    np.argmax(xgb_test, axis=1).reshape(-1, 1)*f1s[0]/sum(f1s),\n",
    "    np.argmax(lgb_test, axis=1).reshape(-1, 1)*f1s[1]/sum(f1s),\n",
    "    np.argmax(catboost_test, axis=1).reshape(-1, 1)*f1s[2]/sum(f1s),\n",
    "    # np.argmax(gbdt_test, axis=1).reshape(-1, 1),\n",
    "    # np.argmax(rf_test, axis=1).reshape(-1, 1)\n",
    "    (xgb_test + lgb_test + catboost_test) / 3\n",
    "))\n",
    "\n",
    "valX = np.hstack((\n",
    "    np.argmax(xgb_val, axis=1).reshape(-1, 1)*f1s[0]/sum(f1s),\n",
    "    np.argmax(lgb_val, axis=1).reshape(-1, 1)*f1s[1]/sum(f1s),\n",
    "    np.argmax(catboost_val, axis=1).reshape(-1, 1)*f1s[2]/sum(f1s),\n",
    "    # np.argmax(gbdt_val, axis=1).reshape(-1, 1),\n",
    "    # np.argmax(rf_val, axis=1).reshape(-1, 1)\n",
    "    (xgb_val + lgb_val + catboost_val) / 3\n",
    "))\n",
    "\n",
    "\n",
    "train_proba = (xgb_train + lgb_train + catboost_train) / 3\n",
    "test_proba = (xgb_test + lgb_test + catboost_test) / 3\n",
    "val_proba = (xgb_val + lgb_val + catboost_val) / 3"
   ]
  },
  {
   "cell_type": "code",
   "execution_count": 17,
   "id": "93cf2b2e-5a38-4634-aab2-3b5ee84aa42d",
   "metadata": {},
   "outputs": [
    {
     "name": "stdout",
     "output_type": "stream",
     "text": [
      "Mean Cross-Validation Score: 0.8995625\n"
     ]
    }
   ],
   "source": [
    "model = GradientBoostingClassifier(\n",
    "    n_estimators=100,  \n",
    "    # learning_rate=0.01,  \n",
    "    max_depth=3,  \n",
    "    min_samples_split=2, \n",
    "    min_samples_leaf=1,  \n",
    "    random_state=42\n",
    ")\n",
    "\n",
    "# 使用交叉验证来评估模型性能，助于防止过拟合\n",
    "scores = cross_val_score(model, trainX, y_train, cv=5)  # 使用5折交叉验证\n",
    "mean_score = scores.mean()\n",
    "\n",
    "# 训练模型\n",
    "model.fit(trainX, y_train)\n",
    "\n",
    "# 打印模型性能分数\n",
    "print(\"Mean Cross-Validation Score:\", mean_score)\n",
    "\n",
    "\n",
    "train_proba = model.predict_proba(trainX)\n",
    "test_proba = model.predict_proba(testX)\n",
    "y_pure = model.predict_proba(valX)"
   ]
  },
  {
   "cell_type": "code",
   "execution_count": 18,
   "id": "48dbc76b-6804-481a-9b58-8bdceb8c49e0",
   "metadata": {},
   "outputs": [
    {
     "name": "stderr",
     "output_type": "stream",
     "text": [
      "Threshold 0: 100%|█████████████████████████████████████████████████████████████████████| 34/34 [09:50<00:00, 17.38s/it]"
     ]
    },
    {
     "name": "stdout",
     "output_type": "stream",
     "text": [
      "best_f1 is: 0.562363354291317\n",
      "best_thresholds is: [0.42, 0.03, 0.0]\n"
     ]
    },
    {
     "name": "stderr",
     "output_type": "stream",
     "text": [
      "\n"
     ]
    }
   ],
   "source": [
    "# 调用函数\n",
    "y_pred_prob = test_proba.copy()\n",
    "best_f1, best_thresholds = find_best_thresholds(y_pred_prob)"
   ]
  },
  {
   "cell_type": "code",
   "execution_count": 19,
   "id": "b85f0fd2-6cf2-485c-a1d7-f8934df4e656",
   "metadata": {},
   "outputs": [
    {
     "data": {
      "text/plain": [
       "0.562363354291317"
      ]
     },
     "execution_count": 19,
     "metadata": {},
     "output_type": "execute_result"
    }
   ],
   "source": [
    "best_f1"
   ]
  },
  {
   "cell_type": "code",
   "execution_count": 20,
   "id": "aa4eeae8-8b5d-4d3c-b7ce-ef6b9348cde3",
   "metadata": {},
   "outputs": [
    {
     "data": {
      "text/plain": [
       "[0.42, 0.03, 0.0]"
      ]
     },
     "execution_count": 20,
     "metadata": {},
     "output_type": "execute_result"
    }
   ],
   "source": [
    "best_thresholds"
   ]
  },
  {
   "cell_type": "code",
   "execution_count": 21,
   "id": "f37a261a-44db-4cb0-bfff-0cc421071b6a",
   "metadata": {},
   "outputs": [
    {
     "name": "stdout",
     "output_type": "stream",
     "text": [
      "0.8013125701677138\n",
      "0.562363354291317\n"
     ]
    }
   ],
   "source": [
    "train_proba[:, 2] = (train_proba[:, 2] >= best_thresholds[2]).astype(int)\n",
    "train_proba[:, 1] = (train_proba[:, 1] >= best_thresholds[1]).astype(int)\n",
    "train_proba[:, 0] = (train_proba[:, 0] >= best_thresholds[0]).astype(int)\n",
    "test_proba[:, 2] = (test_proba[:, 2] >= best_thresholds[2]).astype(int)\n",
    "test_proba[:, 1] = (test_proba[:, 1] >= best_thresholds[1]).astype(int)\n",
    "test_proba[:, 0] = (test_proba[:, 0] >= best_thresholds[0]).astype(int)\n",
    "\n",
    "print(f1_score(y_train, np.argmax(train_proba, axis=1),average='macro'))\n",
    "print(f1_score(y_test, np.argmax(test_proba, axis=1),average='macro'))"
   ]
  },
  {
   "cell_type": "code",
   "execution_count": 22,
   "id": "c9fb22f5-129e-4037-8a49-baa5690fa382",
   "metadata": {
    "pycharm": {
     "name": "#%%\n"
    }
   },
   "outputs": [],
   "source": [
    "# y_pure = model.predict_proba(val)\n",
    "\n",
    "y_pure[:, 2] = (y_pure[:, 2] >= best_thresholds[2]).astype(int)\n",
    "y_pure[:, 1] = (y_pure[:, 1] >= best_thresholds[1]).astype(int)\n",
    "y_pure[:, 0] = (y_pure[:, 0] >= best_thresholds[0]).astype(int)\n",
    "res.target = np.argmax(y_pure, axis=1)\n",
    "res.to_csv('resv6.csv')"
   ]
  },
  {
   "cell_type": "code",
   "execution_count": null,
   "id": "82acbb24-515f-442a-8239-f46adfc658be",
   "metadata": {},
   "outputs": [],
   "source": []
  },
  {
   "cell_type": "code",
   "execution_count": null,
   "id": "633212da-0b18-475a-a8ce-c72b96d056b6",
   "metadata": {},
   "outputs": [],
   "source": []
  }
 ],
 "metadata": {
  "kernelspec": {
   "display_name": "Python 3 (ipykernel)",
   "language": "python",
   "name": "python3"
  },
  "language_info": {
   "codemirror_mode": {
    "name": "ipython",
    "version": 3
   },
   "file_extension": ".py",
   "mimetype": "text/x-python",
   "name": "python",
   "nbconvert_exporter": "python",
   "pygments_lexer": "ipython3",
   "version": "3.12.4"
  }
 },
 "nbformat": 4,
 "nbformat_minor": 5
}
